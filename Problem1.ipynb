{
 "cells": [
  {
   "cell_type": "markdown",
   "metadata": {},
   "source": [
    "# Exploring Julia Type System"
   ]
  },
  {
   "cell_type": "markdown",
   "metadata": {},
   "source": [
    "# Using the generic power method function from lecture notes "
   ]
  },
  {
   "cell_type": "code",
   "execution_count": 4,
   "metadata": {},
   "outputs": [
    {
     "data": {
      "text/plain": [
       "power_method (generic function with 1 method)"
      ]
     },
     "execution_count": 4,
     "metadata": {},
     "output_type": "execute_result"
    }
   ],
   "source": [
    "function power_method(M, v)\n",
    "    for i in 1:100\n",
    "        v = M*v        # repeatedly creates a new vector and destroys the old v\n",
    "        v /= norm(v)\n",
    "    end\n",
    "    \n",
    "    return v, norm(M*v) / norm(v)  # or  (M*v) ./ v\n",
    "end"
   ]
  },
  {
   "cell_type": "markdown",
   "metadata": {},
   "source": [
    "# 1) Create a Arrowhead matrix with Sparse(I,J,V)\n",
    "\n",
    "Here we are first defining two rows\n",
    "float_random_x of length n <br> \n",
    "float_random_x_n1 of length n-1 randomly. We use these segments to generate our symmetric <br> \n",
    "arrow matrices throughout\n",
    "\n",
    "To create the arrowhead matrix from the Sparse matrix , here is how I,J,V are constructed . 'I' . has the list of all indices where we have a value in our matrix S . For example I for a matrix of length 3 would be [1,2,3,1,1,2,3] and similarly J would be [1,2,3,2,3,1,1]. There the only entries in the matrix are s[1,1],s[2,2],s[3,3] and s[1,2],s[1,3] and s[2,1],s[2,3]. According to our setup below we would first set diagnol entries from float_random_x and row entries from float_random_x_n1"
   ]
  },
  {
   "cell_type": "code",
   "execution_count": 6,
   "metadata": {},
   "outputs": [
    {
     "name": "stdout",
     "output_type": "stream",
     "text": [
      "Calling power method on a matrix of size 3 randomly initiazed with random integers\n",
      "  0.000019 seconds (206 allocations: 22.172 KiB)\n"
     ]
    },
    {
     "data": {
      "text/plain": [
       "3×3 Array{Float64,2}:\n",
       " 0.130395  0.371514  0.88117 \n",
       " 0.371514  0.858598  0.0     \n",
       " 0.88117   0.0       0.777176"
      ]
     },
     "execution_count": 6,
     "metadata": {},
     "output_type": "execute_result"
    }
   ],
   "source": [
    "using Gadfly\n",
    "#Sparse matrix in julia works by S[I(k),J(K)]=v(k)\n",
    "#in an arrow head matrix - diagnol elements and the first row and first column are non zero\n",
    "\n",
    "n = 3\n",
    "all_n_values = [i for i=1:n]\n",
    "all_n_values_without_one = [i for i=2:n]\n",
    "I = [all_n_values;rand(1:1,n-1);all_n_values_without_one]\n",
    "J = [all_n_values;all_n_values_without_one;rand(1:1,n-1)]\n",
    "\n",
    "#Let's create random Floating point vectors of lenght n, n-1 for the diagnol and \n",
    "#row matrices respectively. We only do this once so we get the same sort of symmetric \n",
    "#arrow head matrix all through out\n",
    "float_random_x=rand(Float64,n)\n",
    "float_random_x_n1 = rand(Float64,n-1)\n",
    "x_lamba = rand(Float64,n)\n",
    "\n",
    "V = [float_random_x;float_random_x_n1;float_random_x_n1]\n",
    "arrow_head_matrix = sparse(I,J,V)\n",
    "\n",
    "# Use this to make sure the arrow head matrix is correct - Sparse doesnt display the whole array\n",
    "# import Base.full\n",
    "# M = full(arrow_head_matrix)\n",
    "println(\"Calling power method on a matrix of size $(n) randomly initiazed with random integers\")\n",
    "@time power_method(arrow_head_matrix,x_lamba)"
   ]
  },
  {
   "cell_type": "markdown",
   "metadata": {},
   "source": [
    "# 2) Create new type SymArrowFloat\n",
    "\n",
    "We define the said type SymArrowFloat and also define functions +,*,full to go with it. To perform the power method we use the same float_random_x, float_random_x_n1 from earlier"
   ]
  },
  {
   "cell_type": "code",
   "execution_count": null,
   "metadata": {
    "collapsed": true
   },
   "outputs": [],
   "source": [
    "type SymArrowFloat\n",
    "    diag::Vector{Float64}\n",
    "    first_row::Vector{Float64}  # without first entry\n",
    "end"
   ]
  },
  {
   "cell_type": "code",
   "execution_count": null,
   "metadata": {
    "collapsed": true,
    "scrolled": true
   },
   "outputs": [],
   "source": [
    "example_arrow_float_1 = SymArrowFloat(float_random_x,float_random_x_n1)\n",
    "example_arrow_float_2 = SymArrowFloat(rand(Float64,n),rand(Float64,n-1))\n",
    "\n",
    "import Base.show\n",
    "importall Base.Operators\n",
    "\n",
    "function Base.show(io::IO, arrow_float::SymArrowFloat)\n",
    "    println(io, \"Diagnol: $(arrow_float.diag) Row Entries $(arrow_float.first_row)\")\n",
    "    println(io, \"Full Matrix: $(full(arrow_float))\")\n",
    "end\n",
    "\n",
    "function full(arrow_matrix_float::SymArrowFloat)\n",
    "    diagnoal = arrow_matrix_float.diag\n",
    "    row_entr = arrow_matrix_float.first_row\n",
    "    m = length(diagnoal)\n",
    "    M = zeros(m,m)\n",
    "    first_row = [diagnoal[1];row_entr]\n",
    "    for i=1:m\n",
    "        for j=1:m\n",
    "            if i==j\n",
    "                M[i,j]=diagnoal[i]\n",
    "            end\n",
    "        end\n",
    "    end\n",
    "    M[:,1]=first_row\n",
    "    M[1,:]=first_row\n",
    "    return M\n",
    "end\n",
    "#If you try to add these vectors together before definiing + it will throw the following error\n",
    "# MethodError: no method matching +(::SymArrowFloat, ::SymArrowFloat)\n",
    "#add_arrows = example_arrow_float_1 + example_arrow_float_2\n",
    "\n",
    "function Base.:+(arrow_1::SymArrowFloat,arrow_2::SymArrowFloat)\n",
    "    new_diag=arrow_1.diag+arrow_2.diag\n",
    "    new_first_row=arrow_1.first_row+arrow_2.first_row\n",
    "    return SymArrowFloat(new_diag,new_first_row)\n",
    "end\n",
    "\n",
    "function Base.:*(arrow_1::SymArrowFloat,arrow_2::SymArrowFloat)\n",
    "    arrow_1_full = full(arrow_1)\n",
    "    arrow_2_full = full(arrow_2)\n",
    "    return arrow_1_full*arrow_2_full\n",
    "end\n"
   ]
  },
  {
   "cell_type": "code",
   "execution_count": null,
   "metadata": {
    "collapsed": true
   },
   "outputs": [],
   "source": [
    "add_arrows = example_arrow_float_1+example_arrow_float_2\n",
    "mul_arrows = example_arrow_float_1*example_arrow_float_2\n",
    "show(example_arrow_float_1)\n",
    "\n",
    "println(\"Calculating power method for example arrow SymArrowFloat\")\n",
    "@time power_method(full(example_arrow_float_1),x_lamba)\n",
    "#Calculate the maximum eigenvalue by using the power method\n"
   ]
  },
  {
   "cell_type": "markdown",
   "metadata": {},
   "source": [
    "# 3) SymArrow - generic type"
   ]
  },
  {
   "cell_type": "code",
   "execution_count": null,
   "metadata": {
    "collapsed": true
   },
   "outputs": [],
   "source": [
    "type SymArrow{T}\n",
    "    diag::Vector{T}\n",
    "    first_row::Vector{T}  # without first entry\n",
    "end\n",
    "\n",
    "function full{T}(arrow_matrix::SymArrow{T})\n",
    "    diagnoal = arrow_matrix.diag\n",
    "    row_entr = arrow_matrix.first_row\n",
    "    m = length(diagnoal)\n",
    "    M = zeros(m,m)\n",
    "    first_row = [diagnoal[1];row_entr]\n",
    "    for i=1:m\n",
    "        for j=1:m\n",
    "            if i==j\n",
    "                M[i,j]=diagnoal[i]\n",
    "            end\n",
    "        end\n",
    "    end\n",
    "    M[:,1]=first_row\n",
    "    M[1,:]=first_row\n",
    "    return M\n",
    "end\n",
    "\n",
    "function +{T}(A::SymArrow{T}, B::SymArrow{T})\n",
    "    new_diag=arrow_1.diag+arrow_2.diag\n",
    "    new_first_row=arrow_1.first_row+arrow_2.first_row\n",
    "    return SymArrow(new_diag,new_first_row)\n",
    "end\n",
    "\n",
    "function *{T}(A::SymArrow{T}, B::SymArrow{T})\n",
    "    arrow_1_full = full(A)\n",
    "    arrow_2_full = full(B)\n",
    "    return arrow_1_full*arrow_2_full\n",
    "end\n"
   ]
  },
  {
   "cell_type": "markdown",
   "metadata": {},
   "source": [
    "# Create SymArrow objects with rational, complex, big float types\n",
    "\n",
    "\n",
    "Here i am testing to make sure that I can create objects of different type with the parametric type SymArrow."
   ]
  },
  {
   "cell_type": "code",
   "execution_count": null,
   "metadata": {
    "collapsed": true
   },
   "outputs": [],
   "source": [
    "#Create a BigFloat SymArrow object\n",
    "x_float_diag = rand(Float32,n)\n",
    "x_big_float = [BigFloat(x_float_diag[i]) for i=1:n]\n",
    "x_float_row = rand(Float32,n-1)\n",
    "x_big_row = [BigFloat(x_float_row[i]) for i=1:n-1]\n",
    "sym_arrow_big_float = SymArrow(x_big_float,x_big_row)\n",
    "\n",
    "\n",
    "#Create a Complex SymArrow object\n",
    "x_float_diag = rand(Float32,n)\n",
    "x_complex_float = [Complex(x_float_diag[i]) for i=1:n]\n",
    "x_float_row = rand(Float32,n-1)\n",
    "x_complex_row = [Complex(x_float_row[i]) for i=1:n-1]\n",
    "sym_arrow_big_complex = SymArrow(x_complex_float,x_complex_row)\n",
    "\n",
    "\n",
    "#Create a Rational SymArrow object\n",
    "x_float_diag = rand(Float32,n)\n",
    "x_rational_diag = [Rational(x_float_diag[i]) for i=1:n]\n",
    "x_float_row = rand(Float32,n-1)\n",
    "x_rational_row = [Rational(x_float_row[i]) for i=1:n-1]\n",
    "sym_arrow_big_complex = SymArrow(x_rational_diag,x_rational_row)\n",
    "\n",
    "println(\"Calculating power method for example arrow SymArrow - Float type\")\n",
    "Mat = SymArrow(float_random_x,float_random_x_n1)\n",
    "@time power_method(full(Mat),x_lamba)"
   ]
  },
  {
   "cell_type": "markdown",
   "metadata": {},
   "source": [
    "# 4) SymArrow2{T}  Type"
   ]
  },
  {
   "cell_type": "code",
   "execution_count": null,
   "metadata": {
    "collapsed": true
   },
   "outputs": [],
   "source": [
    "#Use workspace() to clear the previously defined full and + functions\n",
    "workspace()\n",
    "n = 1000\n",
    "type SymArrow2{T} <: AbstractMatrix{T}\n",
    "    diag::Vector{T}\n",
    "    first_row::Vector{T}  # without first entry\n",
    "end\n",
    "\n",
    "\n",
    "import Base: size, getindex\n",
    "\n",
    "#Without this you will receive a method error : MethodError: no method matching size(::SymArrow2{Rational{Int64}})\n",
    "# Closest candidates are:\n",
    "#   size(::AbstractArray{T,N}, ::Any) where {T, N} at abstractarray.jl:29\n",
    "#   size(::Any, ::Integer, ::Integer, ::Integer...) where N at abstractarray.jl:30\n",
    "#   size(::Char) at char.jl:13\n",
    "size(A::SymArrow2{T}) where T = (length(A.diag), length(A.diag)) \n",
    "\n",
    "function getindex(A::SymArrow2{T}, i, j) where T\n",
    "    if i == j\n",
    "        return A.diag[i] \n",
    "    elseif i == 1  \n",
    "        return A.first_row[j-1]\n",
    "    elseif j == 1 \n",
    "        return A.first_row[i-1] #Matrix is symmetric\n",
    "    end \n",
    "    return zero(T)  # otherwise return zero of type T\n",
    "end\n",
    "\n"
   ]
  },
  {
   "cell_type": "code",
   "execution_count": null,
   "metadata": {
    "collapsed": true
   },
   "outputs": [],
   "source": [
    "import Base.full\n",
    "Mat = SymArrow2(rand(Float64,n),rand(Float64,n-1))"
   ]
  },
  {
   "cell_type": "code",
   "execution_count": null,
   "metadata": {
    "collapsed": true
   },
   "outputs": [],
   "source": [
    "function power_method(M, v)\n",
    "    for i in 1:100\n",
    "        v = M*v        # repeatedly creates a new vector and destroys the old v\n",
    "        v /= norm(v)\n",
    "    end\n",
    "    return v, norm(M*v) / norm(v)  # or  (M*v) ./ v\n",
    "end\n",
    "\n",
    "println(\"Calculating power method for example arrow SymArrow2 - Float type\")\n",
    "@time power_method(full(Mat),rand(Float64,1000))"
   ]
  },
  {
   "cell_type": "markdown",
   "metadata": {
    "collapsed": true
   },
   "source": [
    "# Analysis of the results \n",
    "\n",
    "Please read the commented out sections"
   ]
  },
  {
   "cell_type": "code",
   "execution_count": 3,
   "metadata": {
    "collapsed": true
   },
   "outputs": [],
   "source": [
    "#They may vary when you run the file since I am assuming random numbers at the last before fixing the matrix.\n",
    "# Calling power method on a matrix of size 1000 randomly initiazed with random integers \n",
    "\n",
    "\n",
    "# 0.190553 seconds (103.67 k allocations: 6.956 MiB)\n",
    "# Calculating power method for example arrow SymArrowFloat\n",
    "# 0.294988 seconds (113.39 k allocations: 15.410 MiB)\n",
    "# Calculating power method for example arrow SymArrow - Float type\n",
    "# 0.063686 seconds (5.28 k allocations: 9.429 MiB, 9.49% gc time)\n",
    "# Calculating power method for example arrow SymArrow2 - Float type\n",
    "# 2.153372 seconds (57.11 k allocations: 4.278 MiB)\n",
    "\n",
    "\n",
    "\n",
    "# dhcp-18-111-23-155:Downloads manvithaponnapati$ julia Problem1.jl\n",
    "# Calling power method on a matrix of size 1000 randomly initiazed with random integers\n",
    "# 0.194344 seconds (103.67 k allocations: 6.956 MiB)\n",
    "# Calculating power method for example arrow SymArrowFloat\n",
    "# 0.292913 seconds (113.39 k allocations: 15.410 MiB)\n",
    "# Calculating power method for example arrow SymArrow - Float type\n",
    "# 0.066086 seconds (5.28 k allocations: 9.429 MiB, 8.51% gc time)\n",
    "# Calculating power method for example arrow SymArrow2 - Float type\n",
    "# 2.167233 seconds (57.11 k allocations: 4.278 MiB)\n",
    "\n",
    "\n",
    "#From the implementation results it is very clear that ,\n",
    "#SymArrow2{T} - has the WORST time\n",
    "#SymArrow{T} - has the BEST time consistently for calculating the power method\n",
    "\n",
    "# Why ?\n",
    "\n",
    "\n",
    "# The reasons why SymArrow2 is performing less efficiently is obvious - Because we are falling \n",
    "# back on the generic functions (like full) provided by Julia - we are not utilizing the structure\n",
    "# of the matrix as much as we could and there by losing the speed we could have gotten with our full\n",
    "# custom full function by making use of the structure of the arrow head matrix\n",
    "\n",
    "#Between SymArrow{T} and SymArrowFloat, SymArrow{T} is doing better in terms of memory and time. \n",
    "# Among these two SymArrow{T} is performing better than the SymArrowFloat because in SymArrow{T} it's possible\n",
    "# to determine the type of the variable from the wrapper itself. Ref: http://web.mit.edu/julia_v0.5.0/.julia-3c9d75391c.amd64_ubuntu1404/share/doc/julia/html/manual/performance-tips.html"
   ]
  },
  {
   "cell_type": "code",
   "execution_count": null,
   "metadata": {
    "collapsed": true
   },
   "outputs": [],
   "source": []
  }
 ],
 "metadata": {
  "kernelspec": {
   "display_name": "Julia 0.6.0",
   "language": "julia",
   "name": "julia-0.6"
  },
  "language_info": {
   "file_extension": ".jl",
   "mimetype": "application/julia",
   "name": "julia",
   "version": "0.6.0"
  }
 },
 "nbformat": 4,
 "nbformat_minor": 2
}
